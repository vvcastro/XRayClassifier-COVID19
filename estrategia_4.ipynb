{
 "cells": [
  {
   "cell_type": "markdown",
   "metadata": {},
   "source": [
    "# Estrategia 04\n",
    "---\n",
    "\n",
    "En esta estrategia se buscó explorar el uso de redes neuronales para este tipo de clasificación. La hipótesis antes del desarrollo es que este tipo de clasificador será capaz de alcanzar la mayor ```accuracy``` particular para este problema.\n",
    "\n",
    "---\n",
    "## 1) Carga de Datos"
   ]
  },
  {
   "cell_type": "code",
   "execution_count": 120,
   "metadata": {},
   "outputs": [],
   "source": [
    "import numpy as np\n",
    "import os\n",
    "\n",
    "# data directory path\n",
    "DATADIR = 'data'\n",
    "\n",
    "# carga de datos de training\n",
    "x_training = np.load(os.path.join(DATADIR, 'training', 'dataset_features.npy'), allow_pickle=True)\n",
    "label_training = np.load(os.path.join(DATADIR, 'training', 'dataset_labels.npy'), allow_pickle=True)\n",
    "d_train = np.array([int(y[1:3]) for y in label_training])\n",
    "\n",
    "# carga de datos de testing\n",
    "x_testing = np.load(os.path.join(DATADIR, 'testing', 'dataset_features.npy'), allow_pickle=True)\n",
    "label_testing = np.load(os.path.join(DATADIR, 'testing', 'dataset_labels.npy'), allow_pickle=True)\n",
    "d_test = np.array([int(y[1:3]) for y in label_testing])\n",
    "\n",
    "# features_label\n",
    "flabels = np.load(os.path.join(DATADIR, 'flabels.npy'), allow_pickle=True)"
   ]
  },
  {
   "cell_type": "markdown",
   "metadata": {},
   "source": [
    "### - Uso de caracteristicas:\n",
    "\n",
    "Para esta estrategia se buscó utilizar las features **geométricas** y de **intensidad** que han mostrado ser las mejores características para estas clasificaciones."
   ]
  },
  {
   "cell_type": "code",
   "execution_count": 143,
   "metadata": {},
   "outputs": [
    {
     "name": "stdout",
     "output_type": "stream",
     "text": [
      "Using only 99 features...\n"
     ]
    }
   ],
   "source": [
    "#to_use = ['hu', 'flusser', 'int']\n",
    "to_use = ['gabor', 'flusser', 'har']\n",
    "\n",
    "use_columns = []\n",
    "for label in flabels:  # nombre de la feature\n",
    "    for ftype in to_use:  # nombres de las features que queremos usar\n",
    "        if ftype in label:\n",
    "            use_columns.append(*np.where(flabels == label)[0])  # agregamos el indice de la feature\n",
    "\n",
    "print(f'Using only {len(use_columns)} features...')\n",
    "\n",
    "# selecionamos solo esas columnas\n",
    "x_train = x_training[:, use_columns]\n",
    "x_test = x_testing[:, use_columns]"
   ]
  },
  {
   "cell_type": "markdown",
   "metadata": {},
   "source": [
    "## 2) Transformación y Selección de Características\n",
    "\n",
    "- En esta estrategia se van a utilizar los siguientes procesos de transformación y selección de caracterísiticas:\n",
    "\n",
    "    1. Cleaning.\n",
    "    2. Normalization (```mean```).\n",
    "    3. Selection (```sbs``` para ```37``` características).\n",
    "\n",
    "\n",
    "### - Training:"
   ]
  },
  {
   "cell_type": "code",
   "execution_count": 144,
   "metadata": {},
   "outputs": [
    {
     "name": "stdout",
     "output_type": "stream",
     "text": [
      "After Cleaning   : 63 features.\n",
      "Normalized       : 63 features.\n",
      "After Selection  : 37 features.\n"
     ]
    }
   ],
   "source": [
    "from modules.feature_selection import sequential_backward_selection as sbs\n",
    "from sklearn.preprocessing import StandardScaler\n",
    "from pybalu.feature_selection import clean\n",
    "\n",
    "FEATURES = 37\n",
    "\n",
    "# Training: Cleaning\n",
    "sclean = clean(x_train, show=False)\n",
    "x_train_clean = x_train[:, sclean]\n",
    "print('After Cleaning   : ' + str(x_train_clean.shape[1]) + ' features.')\n",
    "\n",
    "# Training: Normalization\n",
    "scaler = StandardScaler()\n",
    "scaler.fit(x_train_clean)\n",
    "x_train_norm = scaler.transform(x_train_clean)\n",
    "print('Normalized       : ' + str(x_train_norm.shape[1]) + ' features.')\n",
    "\n",
    "# Training: Feature selection\n",
    "selected = sbs(x_train_norm, d_train, n_features=FEATURES, method=\"fisher\")\n",
    "x_train_selected = x_train_norm[:, selected]\n",
    "print('After Selection  : ' + str(x_train_selected.shape[1]) + ' features.')"
   ]
  },
  {
   "cell_type": "markdown",
   "metadata": {},
   "source": [
    "### - Testing:"
   ]
  },
  {
   "cell_type": "code",
   "execution_count": 145,
   "metadata": {},
   "outputs": [
    {
     "name": "stdout",
     "output_type": "stream",
     "text": [
      "Testing ft: 37 from (1260 samples)\n"
     ]
    }
   ],
   "source": [
    "# Testing: Cleaning\n",
    "x_test_clean = x_test[:, sclean]\n",
    "\n",
    "# Testing: Normalization\n",
    "x_test_norm = scaler.transform(x_test_clean)\n",
    "\n",
    "# Testing: Feature selection\n",
    "x_test_selected = x_test_norm[:, selected]\n",
    "\n",
    "print('Testing ft: '+ str(x_test_selected.shape[1]) + ' from (' + str(x_test_selected.shape[0]) + ' samples)')"
   ]
  },
  {
   "cell_type": "markdown",
   "metadata": {},
   "source": [
    "## 3) Classification:\n",
    "\n",
    "Finalmente, se utilizó como clasificador una *Red Neuronal*.\n",
    "\n",
    "### - Clasificador individual:"
   ]
  },
  {
   "cell_type": "code",
   "execution_count": 156,
   "metadata": {},
   "outputs": [
    {
     "name": "stdout",
     "output_type": "stream",
     "text": [
      "Accuracy:  0.959\n"
     ]
    },
    {
     "data": {
      "text/plain": [
       "<matplotlib.axes._subplots.AxesSubplot at 0x11d4913d0>"
      ]
     },
     "execution_count": 156,
     "metadata": {},
     "output_type": "execute_result"
    },
    {
     "data": {
      "image/png": "[encoded data removed]",
      "text/plain": [
       "<Figure size 720x576 with 2 Axes>"
      ]
     },
     "metadata": {
      "needs_background": "light"
     },
     "output_type": "display_data"
    }
   ],
   "source": [
    "from sklearn.metrics import accuracy_score, confusion_matrix\n",
    "from sklearn.neural_network import MLPClassifier\n",
    "import matplotlib.pyplot as plt\n",
    "import seaborn as sns\n",
    "\n",
    "SOLVER = 'adam'  # sgd, lbfgs\n",
    "ALPHA = 0.0001   # float \n",
    "HLAYERS = (170, 75)\n",
    "MAX_ITER = 2000\n",
    "\n",
    "# Classification on Testing dataset\n",
    "net = MLPClassifier(solver=SOLVER, alpha=ALPHA, hidden_layer_sizes=HLAYERS, max_iter=MAX_ITER,\n",
    "                   warm_start=False)\n",
    "net.fit(x_train_selected, d_train)\n",
    "\n",
    "predicted = net.predict(x_test_selected)\n",
    "\n",
    "acc = accuracy_score(d_test, predicted)\n",
    "print('Accuracy: ', round(acc, 3))\n",
    "\n",
    "cmatrix = confusion_matrix(d_test, predicted)\n",
    "\n",
    "\n",
    "fig, ax = plt.subplots(figsize=(10,8))\n",
    "sns.heatmap(cmatrix, cmap=\"Blues\", annot=True, ax=ax, fmt='g')"
   ]
  },
  {
   "cell_type": "markdown",
   "metadata": {},
   "source": [
    "### - Clasificador Grupal:\n",
    "- Ahora vamos a medir la *accuracy* para la clasificación según lo predicho en la etapa anterior. Esto se hace con un sistema de votación por cada *patch*."
   ]
  },
  {
   "cell_type": "code",
   "execution_count": 157,
   "metadata": {},
   "outputs": [],
   "source": [
    "# contadores por clase y tipo de votos\n",
    "votes = {'00': {}, '01': {}, '02': {}}\n",
    "for i in range(label_testing.shape[0]):\n",
    "    label = label_testing[i]\n",
    "    # si aún no se agrega esta clase\n",
    "    if not label[4:8] in votes[label[1:3]].keys():\n",
    "        votes[label[1:3]][label[4:8]] = [predicted[i]]\n",
    "    else:\n",
    "        votes[label[1:3]][label[4:8]].append(predicted[i])"
   ]
  },
  {
   "cell_type": "code",
   "execution_count": 158,
   "metadata": {},
   "outputs": [],
   "source": [
    "# hacemos la clasificación en grupos vamos a contruir un predict and true value\n",
    "group_predicted = []\n",
    "group_true_value = []\n",
    "for cnumber in votes:\n",
    "    for gnumber in votes[cnumber]:\n",
    "        group_true_value.append(int(cnumber))\n",
    "        predicted_list = votes[cnumber][gnumber]\n",
    "        group_predicted.append(max(set(predicted_list), key=predicted_list.count))\n",
    "g_predicted = np.array(group_predicted)\n",
    "g_test = np.array(group_true_value)"
   ]
  },
  {
   "cell_type": "code",
   "execution_count": 159,
   "metadata": {},
   "outputs": [
    {
     "name": "stdout",
     "output_type": "stream",
     "text": [
      "Accuracy:  0.976\n"
     ]
    },
    {
     "data": {
      "text/plain": [
       "<matplotlib.axes._subplots.AxesSubplot at 0x11d548fd0>"
      ]
     },
     "execution_count": 159,
     "metadata": {},
     "output_type": "execute_result"
    },
    {
     "data": {
      "image/png": "[encoded data removed]",
      "text/plain": [
       "<Figure size 720x576 with 2 Axes>"
      ]
     },
     "metadata": {
      "needs_background": "light"
     },
     "output_type": "display_data"
    }
   ],
   "source": [
    "# estadisticas por grupos\n",
    "g_acc = accuracy_score(g_test, g_predicted)\n",
    "print('Accuracy: ', round(g_acc, 3))\n",
    "\n",
    "g_cmatrix = confusion_matrix(g_test, g_predicted)\n",
    "\n",
    "fig, ax = plt.subplots(figsize=(10,8))\n",
    "sns.heatmap(g_cmatrix, cmap=\"Blues\", annot=True, ax=ax, fmt='g')"
   ]
  },
  {
   "cell_type": "code",
   "execution_count": null,
   "metadata": {},
   "outputs": [],
   "source": []
  }
 ],
 "metadata": {
  "kernelspec": {
   "display_name": "patrones-t3",
   "language": "python",
   "name": "patrones-t3"
  },
  "language_info": {
   "codemirror_mode": {
    "name": "ipython",
    "version": 3
   },
   "file_extension": ".py",
   "mimetype": "text/x-python",
   "name": "python",
   "nbconvert_exporter": "python",
   "pygments_lexer": "ipython3",
   "version": "3.7.7"
  }
 },
 "nbformat": 4,
 "nbformat_minor": 4
}
