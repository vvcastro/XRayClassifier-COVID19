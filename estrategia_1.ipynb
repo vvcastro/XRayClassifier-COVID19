{
 "cells": [
  {
   "cell_type": "markdown",
   "metadata": {},
   "source": [
    "# Estrategia 01\n",
    "---\n",
    "\n",
    "A lo largo de este archivo se describe la ```estrategia 01``` utilizada para la clasificación individual de cada *patch* y, luego, el resultado obtenido al clasificar el conjunto de 10 imagenes provenientes de la radiografía.\n",
    "\n",
    "---\n",
    "## 1) Carga de Datos"
   ]
  },
  {
   "cell_type": "code",
   "execution_count": 151,
   "metadata": {},
   "outputs": [],
   "source": [
    "import numpy as np\n",
    "import os\n",
    "\n",
    "# data directory path\n",
    "DATADIR = 'data'\n",
    "\n",
    "# carga de datos de training\n",
    "x_training = np.load(os.path.join(DATADIR, 'training', 'dataset_features.npy'), allow_pickle=True)\n",
    "label_training = np.load(os.path.join(DATADIR, 'training', 'dataset_labels.npy'), allow_pickle=True)\n",
    "d_train = np.array([int(y[1:3]) for y in label_training])\n",
    "\n",
    "# carga de datos de testing\n",
    "x_testing = np.load(os.path.join(DATADIR, 'testing', 'dataset_features.npy'), allow_pickle=True)\n",
    "label_testing = np.load(os.path.join(DATADIR, 'testing', 'dataset_labels.npy'), allow_pickle=True)\n",
    "d_test = np.array([int(y[1:3]) for y in label_testing])\n",
    "\n",
    "# features_label\n",
    "flabels = np.load(os.path.join(DATADIR, 'flabels.npy'), allow_pickle=True)"
   ]
  },
  {
   "cell_type": "markdown",
   "metadata": {},
   "source": [
    "### - Uso de caracteristicas:\n",
    "\n",
    "Para esta primera estrategia solo se usarán las caracteristicas asociadas a la **geometria** dentro de la imagen y a los **descriptores** de esta."
   ]
  },
  {
   "cell_type": "code",
   "execution_count": 170,
   "metadata": {},
   "outputs": [
    {
     "name": "stdout",
     "output_type": "stream",
     "text": [
      "Using only 343 features...\n"
     ]
    }
   ],
   "source": [
    "use_columns = []\n",
    "to_use = ['geo', 'des']\n",
    "for label in flabels:  # nombre de la feature\n",
    "    for ftype in to_use:  # nombres de las features que queremos usar\n",
    "        if ftype in label:\n",
    "            use_columns.append(*np.where(flabels == label)[0])  # agregamos el indice de la feature\n",
    "\n",
    "print(f'Using only {len(use_columns)} features...')\n",
    "\n",
    "# selecionamos solo esas columnas\n",
    "x_train = x_training[:, use_columns]\n",
    "x_test = x_testing[:, use_columns]"
   ]
  },
  {
   "cell_type": "markdown",
   "metadata": {},
   "source": [
    "## 2) Transformación y Selección de Características\n",
    "\n",
    "- Dado la gran cantidad de caracteristicas que se obtienen (1000) de este tipo de datos vamos a reducir la dimensionalidad, antes de hacer selección y clasificación:\n",
    "\n",
    "    1. Cleaning.\n",
    "    2. Normalization (```mean```).\n",
    "    3. PCA (```n_components=17```)\n",
    "    3. Selection (```sfs``` con ```method=sp100``` y  ```n_features=7```).\n",
    "\n",
    "\n",
    "### - Training:"
   ]
  },
  {
   "cell_type": "code",
   "execution_count": 171,
   "metadata": {},
   "outputs": [
    {
     "name": "stdout",
     "output_type": "stream",
     "text": [
      "After Cleaning   : 331 features.\n",
      "Normalized       : 331 features.\n",
      "After PCA        : 15 features.\n",
      "After Selection  : 7 features.\n"
     ]
    }
   ],
   "source": [
    "from modules.feature_selection import sequential_forward_selection as sfs\n",
    "from sklearn.preprocessing import StandardScaler\n",
    "from pybalu.feature_selection import clean\n",
    "from sklearn.decomposition import PCA\n",
    "\n",
    "N_COMPONENTS = 15\n",
    "FEATURES = 7\n",
    "\n",
    "# Training: Cleaning\n",
    "sclean = clean(x_train, show=False)\n",
    "x_train_clean = x_train[:, sclean]\n",
    "print('After Cleaning   : ' + str(x_train_clean.shape[1]) + ' features.')\n",
    "\n",
    "# Training: Normalization\n",
    "scaler = StandardScaler()\n",
    "scaler.fit(x_train_clean)\n",
    "x_train_norm = scaler.transform(x_train_clean)\n",
    "print('Normalized       : ' + str(x_train_norm.shape[1]) + ' features.')\n",
    "\n",
    "# Training: PCA transformation\n",
    "pca = PCA(n_components=N_COMPONENTS)\n",
    "pca.fit(x_train_norm)\n",
    "x_train_pca = pca.transform(x_train_norm)\n",
    "print('After PCA        : ' + str(x_train_pca.shape[1]) + ' features.')\n",
    "\n",
    "\n",
    "# Training: Feature selection\n",
    "selected = sfs(x_train_pca, d_train, n_features=FEATURES, method=\"sp100\")\n",
    "x_train_selected = x_train_pca[:, selected]\n",
    "print('After Selection  : ' + str(x_train_selected.shape[1]) + ' features.')"
   ]
  },
  {
   "cell_type": "markdown",
   "metadata": {},
   "source": [
    "### - Testing:"
   ]
  },
  {
   "cell_type": "code",
   "execution_count": 172,
   "metadata": {},
   "outputs": [
    {
     "name": "stdout",
     "output_type": "stream",
     "text": [
      "Testing ft: 7 from (1260 samples)\n"
     ]
    }
   ],
   "source": [
    "# Testing: Cleaning\n",
    "x_test_clean = x_test[:, sclean]\n",
    "\n",
    "# Testing: Normalization\n",
    "x_test_norm = scaler.transform(x_test_clean)\n",
    "\n",
    "# Testing: PCA tranformation\n",
    "x_test_pca = pca.transform(x_test_norm)\n",
    "\n",
    "# Testing: Feature selection\n",
    "x_test_selected = x_test_pca[:, selected]\n",
    "\n",
    "print('Testing ft: '+ str(x_test_selected.shape[1]) + ' from (' + str(x_test_selected.shape[0]) + ' samples)')"
   ]
  },
  {
   "cell_type": "markdown",
   "metadata": {},
   "source": [
    "## 3) Classification:\n",
    "\n",
    "- Para la clasificación se utilizó un algoritmos de *Naive Bayes* con ```kernel``` lineal.\n",
    "\n",
    "### - Clasificador individual:"
   ]
  },
  {
   "cell_type": "code",
   "execution_count": 173,
   "metadata": {},
   "outputs": [
    {
     "name": "stdout",
     "output_type": "stream",
     "text": [
      "Accuracy:  0.716\n"
     ]
    },
    {
     "data": {
      "text/plain": [
       "<matplotlib.axes._subplots.AxesSubplot at 0x1253573d0>"
      ]
     },
     "execution_count": 173,
     "metadata": {},
     "output_type": "execute_result"
    },
    {
     "data": {
      "image/png": "[encoded data removed]",
      "text/plain": [
       "<Figure size 720x576 with 2 Axes>"
      ]
     },
     "metadata": {
      "needs_background": "light"
     },
     "output_type": "display_data"
    }
   ],
   "source": [
    "from sklearn.metrics import accuracy_score, confusion_matrix\n",
    "from sklearn.naive_bayes import GaussianNB\n",
    "import matplotlib.pyplot as plt\n",
    "import seaborn as sns\n",
    "\n",
    "# Classification on Testing dataset\n",
    "clf = GaussianNB()\n",
    "clf.fit(x_train_selected, d_train)\n",
    "\n",
    "predicted = clf.predict(x_test_selected)\n",
    "\n",
    "acc = accuracy_score(d_test, predicted)\n",
    "print('Accuracy: ', round(acc, 3))\n",
    "\n",
    "cmatrix = confusion_matrix(d_test, predicted)\n",
    "\n",
    "\n",
    "fig, ax = plt.subplots(figsize=(10,8))\n",
    "sns.heatmap(cmatrix, cmap=\"Blues\", annot=True, ax=ax, fmt='g')"
   ]
  },
  {
   "cell_type": "markdown",
   "metadata": {},
   "source": [
    "### - Clasificador Grupal:"
   ]
  },
  {
   "cell_type": "code",
   "execution_count": 147,
   "metadata": {},
   "outputs": [],
   "source": [
    "# contadores por clase y tipo de votos\n",
    "votes = {'00': {}, '01': {}, '02': {}}\n",
    "for i in range(label_testing.shape[0]):\n",
    "    label = label_testing[i]\n",
    "    # si aún no se agrega esta clase\n",
    "    if not label[4:8] in votes[label[1:3]].keys():\n",
    "        votes[label[1:3]][label[4:8]] = [predicted[i]]\n",
    "    else:\n",
    "        votes[label[1:3]][label[4:8]].append(predicted[i])"
   ]
  },
  {
   "cell_type": "code",
   "execution_count": 148,
   "metadata": {},
   "outputs": [],
   "source": [
    "# hacemos la clasificación en grupos vamos a contruir un predict and true value\n",
    "group_predicted = []\n",
    "group_true_value = []\n",
    "for cnumber in votes:\n",
    "    for gnumber in votes[cnumber]:\n",
    "        group_true_value.append(int(cnumber))\n",
    "        predicted_list = votes[cnumber][gnumber]\n",
    "        group_predicted.append(max(set(predicted_list), key=predicted_list.count))\n",
    "g_predicted = np.array(group_predicted)\n",
    "g_test = np.array(group_true_value)"
   ]
  },
  {
   "cell_type": "code",
   "execution_count": 149,
   "metadata": {},
   "outputs": [
    {
     "name": "stdout",
     "output_type": "stream",
     "text": [
      "Accuracy:  0.754\n"
     ]
    },
    {
     "data": {
      "text/plain": [
       "<matplotlib.axes._subplots.AxesSubplot at 0x125065a10>"
      ]
     },
     "execution_count": 149,
     "metadata": {},
     "output_type": "execute_result"
    },
    {
     "data": {
      "image/png": "[encoded data removed]",
      "text/plain": [
       "<Figure size 720x576 with 2 Axes>"
      ]
     },
     "metadata": {
      "needs_background": "light"
     },
     "output_type": "display_data"
    }
   ],
   "source": [
    "# estadisticas por grupos\n",
    "g_acc = accuracy_score(g_test, g_predicted)\n",
    "print('Accuracy: ', round(g_acc, 3))\n",
    "\n",
    "g_cmatrix = confusion_matrix(g_test, g_predicted)\n",
    "\n",
    "fig, ax = plt.subplots(figsize=(10,8))\n",
    "sns.heatmap(g_cmatrix, cmap=\"Blues\", annot=True, ax=ax, fmt='g')"
   ]
  },
  {
   "cell_type": "code",
   "execution_count": null,
   "metadata": {},
   "outputs": [],
   "source": []
  }
 ],
 "metadata": {
  "kernelspec": {
   "display_name": "patrones-t3",
   "language": "python",
   "name": "patrones-t3"
  },
  "language_info": {
   "codemirror_mode": {
    "name": "ipython",
    "version": 3
   },
   "file_extension": ".py",
   "mimetype": "text/x-python",
   "name": "python",
   "nbconvert_exporter": "python",
   "pygments_lexer": "ipython3",
   "version": "3.7.7"
  }
 },
 "nbformat": 4,
 "nbformat_minor": 4
}
