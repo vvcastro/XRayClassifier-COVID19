{
 "cells": [
  {
   "cell_type": "markdown",
   "metadata": {},
   "source": [
    "# T03: X-Ray Classifier\n",
    "---\n",
    "\n",
    "A lo largo de este archivo se describen distintas estrategias para hacer la clasificación. \n",
    "\n",
    "Cada estrategia debe contar con los siguientes elementos:\n",
    "\n",
    "    1. Caracteristicas extraídas.\n",
    "    2. Selección y transformación de características.\n",
    "    3. Clasificador utilizado.\n",
    "    \n",
    "---\n",
    "### -Imports"
   ]
  },
  {
   "cell_type": "code",
   "execution_count": 198,
   "metadata": {},
   "outputs": [],
   "source": [
    "# manejo de imagenes\n",
    "from pybalu import feature_extraction, img_processing, io\n",
    "from skimage import io, exposure\n",
    "import numpy as np\n",
    "import cv2\n",
    "\n",
    "\n",
    "# utilidades\n",
    "import os"
   ]
  },
  {
   "cell_type": "markdown",
   "metadata": {},
   "source": [
    "## 1) Load and prepare dataset:\n",
    "\n",
    "### - Image processing:\n",
    "Estos son procesamientos adicionales que se pueden hacer y serán estudiados en pos de los scores en la clasificación:"
   ]
  },
  {
   "cell_type": "code",
   "execution_count": 3,
   "metadata": {},
   "outputs": [],
   "source": [
    "def increase_contrast(img, low_p=0.1, high_p=99.9):\n",
    "    # aumenta el contraste en la imagen\n",
    "    v_min, v_max = np.percentile(img, (low_p, high_p))\n",
    "    return exposure.rescale_intensity(img, in_range=(v_min, v_max))\n",
    "\n",
    "def load_image(img_path):\n",
    "    img = cv2.imread(img_path, cv2.IMREAD_GRAYSCALE)\n",
    "    contrasted_img = increase_contrast(img)\n",
    "    return contrasted_img"
   ]
  },
  {
   "cell_type": "markdown",
   "metadata": {},
   "source": [
    "### - Loading datasets:\n",
    "Las imagenes cargadas son guardadas en archivos ```.npy```."
   ]
  },
  {
   "cell_type": "code",
   "execution_count": 4,
   "metadata": {},
   "outputs": [],
   "source": [
    "def load_dataset(datadir, dirname, extension='.png', load=True):\n",
    "    data_path = os.path.join(datadir, dirname)\n",
    "    dataset_file, labels_file = f'{dirname}_dataset.npy', f'{dirname}_labels.npy'\n",
    "    \n",
    "    # si los archivos no están guardados\n",
    "    previously_loaded = set([dataset_file, labels_file]).issubset(set(os.listdir(datadir)))\n",
    "    if (not previously_loaded) or (not load):\n",
    "        imgs, labels = [], []  # contenedor\n",
    "\n",
    "        # recorremos cada carpeta con archivos\n",
    "        cdirs = [cdir for cdir in os.listdir(data_path) if os.path.isdir(os.path.join(data_path, cdir))]\n",
    "        for cdir in sorted(cdirs):\n",
    "            cimgs, clabels = [], []  # contenedor para cada clase\n",
    "\n",
    "            # recorremos cada archivo\n",
    "            files = [file for file in os.listdir(os.path.join(data_path, cdir)) if extension in file]            \n",
    "            for file in sorted(files):\n",
    "                cimgs.append(load_image(os.path.join(data_path, cdir, file)))\n",
    "                clabels.append(file[4:-4])  # nnnn_pppp\n",
    "        \n",
    "            # agregamos a la lista\n",
    "            imgs.append(cimgs), labels.append(clabels)\n",
    "        \n",
    "        # transformamos a array\n",
    "        dataset, labels = np.array(imgs), np.array(labels)\n",
    "        \n",
    "        # guardamos en archivos\n",
    "        np.save(f'{os.path.join(datadir, dataset_file)}', dataset)\n",
    "        np.save(f'{os.path.join(datadir, labels_file)}', labels)\n",
    "\n",
    "    # si los archivos ya están guardados\n",
    "    else:\n",
    "        # se cargan los archivos\n",
    "        dataset = np.load(os.path.join(datadir, dataset_file), allow_pickle=True)\n",
    "        labels = np.load(os.path.join(datadir, labels_file), allow_pickle=True)\n",
    "    \n",
    "    # se retornan los archivos\n",
    "    return dataset, labels"
   ]
  },
  {
   "cell_type": "code",
   "execution_count": 171,
   "metadata": {
    "scrolled": true
   },
   "outputs": [],
   "source": [
    "training_dataset, training_labels = load_dataset('dataset', 'training', load=False)\n",
    "testing_dataset, testing_labels = load_dataset('dataset', 'testing', load=False)"
   ]
  },
  {
   "cell_type": "markdown",
   "metadata": {},
   "source": [
    "---\n",
    "\n",
    "## 2) Feature Extraction:\n",
    "\n",
    "Cada sección se va a dedicar a tipos de caracteristicas diferentes:"
   ]
  },
  {
   "cell_type": "code",
   "execution_count": 168,
   "metadata": {},
   "outputs": [],
   "source": [
    "def extract_countours(img):\n",
    "    gray = cv2.bilateralFilter(img, 11, 17, 17)\n",
    "    edged = cv2.Canny(gray, 30, 200)\n",
    "    contours, hierarchy = cv2.findContours(thresh, cv2.RETR_TREE, cv2.CHAIN_APPROX_NONE)\n",
    "    io.imshow(edged)\n",
    "    return contours"
   ]
  },
  {
   "cell_type": "markdown",
   "metadata": {},
   "source": [
    "### - Geometric Features:\n",
    "\n",
    "    - Features Consideradas: Se debe considerar que cada *patch* son de la misma escala porque podemos ocupar features variantes a la escala. Las imagenes son tomadas de partes aleatoreas de una imágen más grande, por lo que por ahora no se consideraran features variantes a la traslación.\n",
    "    \n",
    "        1. Perímetro.\n",
    "        2. Área.\n",
    "        3. Roundness.\n",
    "        4. HuMoments.\n",
    "        5. Fourier Descriptors."
   ]
  },
  {
   "cell_type": "code",
   "execution_count": 199,
   "metadata": {},
   "outputs": [],
   "source": [
    "def contourFeatures(contours):\n",
    "    perimeters = []\n",
    "    areas = []\n",
    "    roundness = []\n",
    "    for cnt in contours:\n",
    "        length = cv2,arcLength(cnt, closed=False)\n",
    "        area = cv2.contourArea(cnt, closed=True)\n",
    "        # agregamos a la listas de la imagen\n",
    "        perimeter.append(length)\n",
    "        areas.append(area)\n",
    "        roundness.append((4 * area * np.pi) / (area) ** 2)\n",
    "\n",
    "    # numero de contornos, perimetro, area, roundness\n",
    "    return len(countours), perimeters, areas, roundness\n",
    "\n",
    "def HuMoments(cnt):\n",
    "    # momentos\n",
    "    moments = cv2.moments(cnt)\n",
    "    return cv2.HuMoments(moments)\n",
    "\n",
    "def FourierDescriptors(img):\n",
    "    # binarización de la imagen\n",
    "    binary_img, _, _ = img_processing.segbalu(img)\n",
    "    return feature_extraction.fourier_des_features(binary_img)"
   ]
  },
  {
   "cell_type": "markdown",
   "metadata": {},
   "source": [
    "### - Texture Features:"
   ]
  },
  {
   "cell_type": "code",
   "execution_count": null,
   "metadata": {},
   "outputs": [],
   "source": []
  },
  {
   "cell_type": "code",
   "execution_count": 205,
   "metadata": {},
   "outputs": [
    {
     "data": {
      "text/plain": [
       "array([2.42934009, 0.97866669, 0.50000761, 0.27121397, 0.38190053,\n",
       "       0.4292876 , 0.03950349, 0.26389903, 0.31851659, 0.13901886,\n",
       "       0.08239852, 0.09106509, 0.19302278, 0.08159675, 0.08985048,\n",
       "       0.12005784])"
      ]
     },
     "execution_count": 205,
     "metadata": {},
     "output_type": "execute_result"
    }
   ],
   "source": [
    "img = training_dataset[0][4]\n",
    "binary_img, _, _ = img_processing.segbalu(img)\n",
    "\n",
    "FourierDescriptors(img)"
   ]
  },
  {
   "cell_type": "code",
   "execution_count": 209,
   "metadata": {},
   "outputs": [
    {
     "data": {
      "text/plain": [
       "<matplotlib.image.AxesImage at 0x134724c90>"
      ]
     },
     "execution_count": 209,
     "metadata": {},
     "output_type": "execute_result"
    },
    {
     "data": {
      "image/png": "[encoded data removed]",
      "text/plain": [
       "<Figure size 432x288 with 1 Axes>"
      ]
     },
     "metadata": {
      "needs_background": "light"
     },
     "output_type": "display_data"
    }
   ],
   "source": [
    "io.imshow(img)"
   ]
  },
  {
   "cell_type": "code",
   "execution_count": null,
   "metadata": {},
   "outputs": [],
   "source": []
  }
 ],
 "metadata": {
  "kernelspec": {
   "display_name": "patrones-t3",
   "language": "python",
   "name": "patrones-t3"
  },
  "language_info": {
   "codemirror_mode": {
    "name": "ipython",
    "version": 3
   },
   "file_extension": ".py",
   "mimetype": "text/x-python",
   "name": "python",
   "nbconvert_exporter": "python",
   "pygments_lexer": "ipython3",
   "version": "3.7.7"
  }
 },
 "nbformat": 4,
 "nbformat_minor": 4
}
