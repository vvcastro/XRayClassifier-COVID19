{
 "cells": [
  {
   "cell_type": "markdown",
   "metadata": {},
   "source": [
    "# T03: Estrategia 03\n",
    "---\n",
    "\n",
    "Para esta estrategia se utilizó una SVM y features específicas de *intensidad* y *geometría*. Además, se utilizó *PCA* para la transformación de caracterísiticas.\n",
    "\n",
    "---\n",
    "## 1) Carga de Datos"
   ]
  },
  {
   "cell_type": "code",
   "execution_count": 10,
   "metadata": {},
   "outputs": [],
   "source": [
    "import numpy as np\n",
    "import os\n",
    "\n",
    "# data directory path\n",
    "DATADIR = 'data'\n",
    "\n",
    "# carga de datos de training\n",
    "x_training = np.load(os.path.join(DATADIR, 'training', 'dataset_features.npy'), allow_pickle=True)\n",
    "label_training = np.load(os.path.join(DATADIR, 'training', 'dataset_labels.npy'), allow_pickle=True)\n",
    "d_train = np.array([int(y[1:3]) for y in label_training])\n",
    "\n",
    "# carga de datos de testing\n",
    "x_testing = np.load(os.path.join(DATADIR, 'testing', 'dataset_features.npy'), allow_pickle=True)\n",
    "label_testing = np.load(os.path.join(DATADIR, 'testing', 'dataset_labels.npy'), allow_pickle=True)\n",
    "d_test = np.array([int(y[1:3]) for y in label_testing])\n",
    "\n",
    "# features_label\n",
    "flabels = np.load(os.path.join(DATADIR, 'flabels.npy'), allow_pickle=True)"
   ]
  },
  {
   "cell_type": "markdown",
   "metadata": {},
   "source": [
    "### - Uso de caracteristicas:\n",
    "\n",
    "- Para esta estrategia se ocuparon features **geometricas** y una caracteristica de **intensidad**. La hipótesis detrás de esta estrategia es poder ver qué tipo de característica es la más eficiente dentro de este último grupo.\n",
    "    \n",
    "    1. Flusser Moments ( *geométrico* ).\n",
    "    2. Hu Moments ( *geométrico* ).\n",
    "    3. Gabor Features ( *intensity* )."
   ]
  },
  {
   "cell_type": "code",
   "execution_count": 11,
   "metadata": {},
   "outputs": [
    {
     "name": "stdout",
     "output_type": "stream",
     "text": [
      "Using only 78 features...\n"
     ]
    }
   ],
   "source": [
    "to_use = ['gabor', 'flusser', 'hu']\n",
    "\n",
    "use_columns = []\n",
    "for label in flabels:  # nombre de la feature\n",
    "    for ftype in to_use:  # nombres de las features que queremos usar\n",
    "        if ftype in label:\n",
    "            use_columns.append(*np.where(flabels == label)[0])  # agregamos el indice de la feature\n",
    "\n",
    "print(f'Using only {len(use_columns)} features...')\n",
    "\n",
    "# selecionamos solo esas columnas\n",
    "x_train = x_training[:, use_columns]\n",
    "x_test = x_testing[:, use_columns]"
   ]
  },
  {
   "cell_type": "markdown",
   "metadata": {},
   "source": [
    "## 2) Transformación y Selección de Características\n",
    "\n",
    "- En esta estrategia se van a utilizar los siguientes procesos de transformación y selección de caracterísiticas:\n",
    "\n",
    "    1. Normalization (```mean```).\n",
    "    2. PCA (```n_components = 15```)\n",
    "\n",
    "\n",
    "### - Training:"
   ]
  },
  {
   "cell_type": "code",
   "execution_count": 47,
   "metadata": {},
   "outputs": [
    {
     "name": "stdout",
     "output_type": "stream",
     "text": [
      "Normalized       : 78 features.\n",
      "After PCA        : 15 features.\n"
     ]
    }
   ],
   "source": [
    "from sklearn.preprocessing import StandardScaler\n",
    "from sklearn.decomposition import PCA\n",
    "\n",
    "N_COMPONENTS = 15\n",
    "\n",
    "# Training: Normalization\n",
    "scaler = StandardScaler()\n",
    "scaler.fit(x_train)\n",
    "x_train_norm = scaler.transform(x_train)\n",
    "print('Normalized       : ' + str(x_train_norm.shape[1]) + ' features.')\n",
    "\n",
    "# Training: PCA transformation\n",
    "pca = PCA(n_components=N_COMPONENTS)\n",
    "pca.fit(x_train_norm)\n",
    "x_train_pca = pca.transform(x_train_norm)\n",
    "print('After PCA        : ' + str(x_train_pca.shape[1]) + ' features.')"
   ]
  },
  {
   "cell_type": "markdown",
   "metadata": {},
   "source": [
    "### - Testing:"
   ]
  },
  {
   "cell_type": "code",
   "execution_count": 48,
   "metadata": {},
   "outputs": [
    {
     "name": "stdout",
     "output_type": "stream",
     "text": [
      "Testing ft: 15 from (1260 samples)\n"
     ]
    }
   ],
   "source": [
    "# Testing: Normalization\n",
    "x_test_norm = scaler.transform(x_test)\n",
    "\n",
    "# Testing: PCA transformation\n",
    "x_test_pca = pca.transform(x_test_norm)\n",
    "\n",
    "print('Testing ft: '+ str(x_test_pca.shape[1]) + ' from (' + str(x_test_pca.shape[0]) + ' samples)')"
   ]
  },
  {
   "cell_type": "markdown",
   "metadata": {},
   "source": [
    "## 3) Classification:\n",
    "\n",
    "La clasificación para cada patch se hizo a través de una *Support Vector Machine*, a continuación se ve la implementación:\n",
    "\n",
    "### - Clasificador individual:"
   ]
  },
  {
   "cell_type": "code",
   "execution_count": 49,
   "metadata": {},
   "outputs": [
    {
     "name": "stdout",
     "output_type": "stream",
     "text": [
      "Accuracy:  0.945\n"
     ]
    },
    {
     "data": {
      "text/plain": [
       "<matplotlib.axes._subplots.AxesSubplot at 0x125e3f9d0>"
      ]
     },
     "execution_count": 49,
     "metadata": {},
     "output_type": "execute_result"
    },
    {
     "data": {
      "image/png": "[encoded data removed]",
      "text/plain": [
       "<Figure size 720x576 with 2 Axes>"
      ]
     },
     "metadata": {
      "needs_background": "light"
     },
     "output_type": "display_data"
    }
   ],
   "source": [
    "from sklearn.metrics import accuracy_score, confusion_matrix\n",
    "from sklearn.svm import SVC\n",
    "import matplotlib.pyplot as plt\n",
    "import seaborn as sns\n",
    "\n",
    "KERNEL = 'rbf'  # linear, poly, rbf, sigmoid\n",
    "GAMMA = 'scale'    # scale, auto\n",
    "\n",
    "# Classification on Testing dataset\n",
    "svm = SVC(kernel=KERNEL, gamma=GAMMA)\n",
    "svm.fit(x_train_pca, d_train)\n",
    "\n",
    "predicted = svm.predict(x_test_pca)\n",
    "\n",
    "acc = accuracy_score(d_test, predicted)\n",
    "print('Accuracy: ', round(acc, 3))\n",
    "\n",
    "cmatrix = confusion_matrix(d_test, predicted)\n",
    "\n",
    "\n",
    "fig, ax = plt.subplots(figsize=(10,8))\n",
    "sns.heatmap(cmatrix, cmap=\"Blues\", annot=True, ax=ax, fmt='g')"
   ]
  },
  {
   "cell_type": "markdown",
   "metadata": {},
   "source": [
    "### - Clasificador Grupal:\n",
    "\n",
    "Para la clasificación grupal se vota según cada *patch* que conforma a la imagen."
   ]
  },
  {
   "cell_type": "code",
   "execution_count": 50,
   "metadata": {},
   "outputs": [],
   "source": [
    "# contadores por clase y tipo de votos\n",
    "votes = {'00': {}, '01': {}, '02': {}}\n",
    "for i in range(label_testing.shape[0]):\n",
    "    label = label_testing[i]\n",
    "    # si aún no se agrega esta clase\n",
    "    if not label[4:8] in votes[label[1:3]].keys():\n",
    "        votes[label[1:3]][label[4:8]] = [predicted[i]]\n",
    "    else:\n",
    "        votes[label[1:3]][label[4:8]].append(predicted[i])"
   ]
  },
  {
   "cell_type": "code",
   "execution_count": 51,
   "metadata": {},
   "outputs": [],
   "source": [
    "# hacemos la clasificación en grupos vamos a contruir un predict and true value\n",
    "group_predicted = []\n",
    "group_true_value = []\n",
    "for cnumber in votes:\n",
    "    for gnumber in votes[cnumber]:\n",
    "        group_true_value.append(int(cnumber))\n",
    "        predicted_list = votes[cnumber][gnumber]\n",
    "        group_predicted.append(max(set(predicted_list), key=predicted_list.count))\n",
    "g_predicted = np.array(group_predicted)\n",
    "g_test = np.array(group_true_value)"
   ]
  },
  {
   "cell_type": "code",
   "execution_count": 52,
   "metadata": {},
   "outputs": [
    {
     "name": "stdout",
     "output_type": "stream",
     "text": [
      "Accuracy:  0.976\n"
     ]
    },
    {
     "data": {
      "text/plain": [
       "<matplotlib.axes._subplots.AxesSubplot at 0x125ef5050>"
      ]
     },
     "execution_count": 52,
     "metadata": {},
     "output_type": "execute_result"
    },
    {
     "data": {
      "image/png": "[encoded data removed]",
      "text/plain": [
       "<Figure size 720x576 with 2 Axes>"
      ]
     },
     "metadata": {
      "needs_background": "light"
     },
     "output_type": "display_data"
    }
   ],
   "source": [
    "# estadisticas por grupos\n",
    "g_acc = accuracy_score(g_test, g_predicted)\n",
    "print('Accuracy: ', round(g_acc, 3))\n",
    "\n",
    "g_cmatrix = confusion_matrix(g_test, g_predicted)\n",
    "\n",
    "fig, ax = plt.subplots(figsize=(10,8))\n",
    "sns.heatmap(g_cmatrix, cmap=\"Blues\", annot=True, ax=ax, fmt='g')"
   ]
  },
  {
   "cell_type": "code",
   "execution_count": null,
   "metadata": {},
   "outputs": [],
   "source": []
  }
 ],
 "metadata": {
  "kernelspec": {
   "display_name": "patrones-t3",
   "language": "python",
   "name": "patrones-t3"
  },
  "language_info": {
   "codemirror_mode": {
    "name": "ipython",
    "version": 3
   },
   "file_extension": ".py",
   "mimetype": "text/x-python",
   "name": "python",
   "nbconvert_exporter": "python",
   "pygments_lexer": "ipython3",
   "version": "3.7.7"
  }
 },
 "nbformat": 4,
 "nbformat_minor": 4
}
